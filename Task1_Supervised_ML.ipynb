{
  "nbformat": 4,
  "nbformat_minor": 0,
  "metadata": {
    "colab": {
      "name": "Task1_Supervised_ML.ipynb",
      "provenance": [],
      "collapsed_sections": []
    },
    "kernelspec": {
      "name": "python3",
      "display_name": "Python 3"
    },
    "language_info": {
      "name": "python"
    }
  },
  "cells": [
    {
      "cell_type": "markdown",
      "source": [
        "**Data Science And Business Analytics tasks**\n",
        "\n",
        "---\n",
        "\n",
        "\n",
        "\n",
        "**Author**: Ben Mansour Houcem Eddine\n",
        "\n",
        "\n",
        "---\n",
        "\n",
        "\n",
        "\n",
        "**TASK 1: Predict the percentage of an student based on the no. of study hours**"
      ],
      "metadata": {
        "id": "rwT5fk6sUfR1"
      }
    },
    {
      "cell_type": "markdown",
      "source": [
        "**import libraries**"
      ],
      "metadata": {
        "id": "QRDoDlvgWZOs"
      }
    },
    {
      "cell_type": "code",
      "execution_count": 2,
      "metadata": {
        "id": "lrbihVWqTSeB"
      },
      "outputs": [],
      "source": [
        "import numpy as np\n",
        "import pandas as pd \n",
        "import matplotlib.pyplot as plt\n",
        "import seaborn as sns"
      ]
    },
    {
      "cell_type": "markdown",
      "source": [
        "**read the data**"
      ],
      "metadata": {
        "id": "YwTRdDLSXCqm"
      }
    },
    {
      "cell_type": "code",
      "source": [
        "data= pd.read_csv(\"http://bit.ly/w-data\")\n",
        "data.head()"
      ],
      "metadata": {
        "colab": {
          "base_uri": "https://localhost:8080/",
          "height": 206
        },
        "id": "tlbe5UwSW4BQ",
        "outputId": "c2c694b1-b177-45e8-9415-210e3f3de40d"
      },
      "execution_count": 3,
      "outputs": [
        {
          "output_type": "execute_result",
          "data": {
            "text/plain": [
              "   Hours  Scores\n",
              "0    2.5      21\n",
              "1    5.1      47\n",
              "2    3.2      27\n",
              "3    8.5      75\n",
              "4    3.5      30"
            ],
            "text/html": [
              "\n",
              "  <div id=\"df-d0f6d22b-74d3-4ee8-8f3a-8e6b43e19ede\">\n",
              "    <div class=\"colab-df-container\">\n",
              "      <div>\n",
              "<style scoped>\n",
              "    .dataframe tbody tr th:only-of-type {\n",
              "        vertical-align: middle;\n",
              "    }\n",
              "\n",
              "    .dataframe tbody tr th {\n",
              "        vertical-align: top;\n",
              "    }\n",
              "\n",
              "    .dataframe thead th {\n",
              "        text-align: right;\n",
              "    }\n",
              "</style>\n",
              "<table border=\"1\" class=\"dataframe\">\n",
              "  <thead>\n",
              "    <tr style=\"text-align: right;\">\n",
              "      <th></th>\n",
              "      <th>Hours</th>\n",
              "      <th>Scores</th>\n",
              "    </tr>\n",
              "  </thead>\n",
              "  <tbody>\n",
              "    <tr>\n",
              "      <th>0</th>\n",
              "      <td>2.5</td>\n",
              "      <td>21</td>\n",
              "    </tr>\n",
              "    <tr>\n",
              "      <th>1</th>\n",
              "      <td>5.1</td>\n",
              "      <td>47</td>\n",
              "    </tr>\n",
              "    <tr>\n",
              "      <th>2</th>\n",
              "      <td>3.2</td>\n",
              "      <td>27</td>\n",
              "    </tr>\n",
              "    <tr>\n",
              "      <th>3</th>\n",
              "      <td>8.5</td>\n",
              "      <td>75</td>\n",
              "    </tr>\n",
              "    <tr>\n",
              "      <th>4</th>\n",
              "      <td>3.5</td>\n",
              "      <td>30</td>\n",
              "    </tr>\n",
              "  </tbody>\n",
              "</table>\n",
              "</div>\n",
              "      <button class=\"colab-df-convert\" onclick=\"convertToInteractive('df-d0f6d22b-74d3-4ee8-8f3a-8e6b43e19ede')\"\n",
              "              title=\"Convert this dataframe to an interactive table.\"\n",
              "              style=\"display:none;\">\n",
              "        \n",
              "  <svg xmlns=\"http://www.w3.org/2000/svg\" height=\"24px\"viewBox=\"0 0 24 24\"\n",
              "       width=\"24px\">\n",
              "    <path d=\"M0 0h24v24H0V0z\" fill=\"none\"/>\n",
              "    <path d=\"M18.56 5.44l.94 2.06.94-2.06 2.06-.94-2.06-.94-.94-2.06-.94 2.06-2.06.94zm-11 1L8.5 8.5l.94-2.06 2.06-.94-2.06-.94L8.5 2.5l-.94 2.06-2.06.94zm10 10l.94 2.06.94-2.06 2.06-.94-2.06-.94-.94-2.06-.94 2.06-2.06.94z\"/><path d=\"M17.41 7.96l-1.37-1.37c-.4-.4-.92-.59-1.43-.59-.52 0-1.04.2-1.43.59L10.3 9.45l-7.72 7.72c-.78.78-.78 2.05 0 2.83L4 21.41c.39.39.9.59 1.41.59.51 0 1.02-.2 1.41-.59l7.78-7.78 2.81-2.81c.8-.78.8-2.07 0-2.86zM5.41 20L4 18.59l7.72-7.72 1.47 1.35L5.41 20z\"/>\n",
              "  </svg>\n",
              "      </button>\n",
              "      \n",
              "  <style>\n",
              "    .colab-df-container {\n",
              "      display:flex;\n",
              "      flex-wrap:wrap;\n",
              "      gap: 12px;\n",
              "    }\n",
              "\n",
              "    .colab-df-convert {\n",
              "      background-color: #E8F0FE;\n",
              "      border: none;\n",
              "      border-radius: 50%;\n",
              "      cursor: pointer;\n",
              "      display: none;\n",
              "      fill: #1967D2;\n",
              "      height: 32px;\n",
              "      padding: 0 0 0 0;\n",
              "      width: 32px;\n",
              "    }\n",
              "\n",
              "    .colab-df-convert:hover {\n",
              "      background-color: #E2EBFA;\n",
              "      box-shadow: 0px 1px 2px rgba(60, 64, 67, 0.3), 0px 1px 3px 1px rgba(60, 64, 67, 0.15);\n",
              "      fill: #174EA6;\n",
              "    }\n",
              "\n",
              "    [theme=dark] .colab-df-convert {\n",
              "      background-color: #3B4455;\n",
              "      fill: #D2E3FC;\n",
              "    }\n",
              "\n",
              "    [theme=dark] .colab-df-convert:hover {\n",
              "      background-color: #434B5C;\n",
              "      box-shadow: 0px 1px 3px 1px rgba(0, 0, 0, 0.15);\n",
              "      filter: drop-shadow(0px 1px 2px rgba(0, 0, 0, 0.3));\n",
              "      fill: #FFFFFF;\n",
              "    }\n",
              "  </style>\n",
              "\n",
              "      <script>\n",
              "        const buttonEl =\n",
              "          document.querySelector('#df-d0f6d22b-74d3-4ee8-8f3a-8e6b43e19ede button.colab-df-convert');\n",
              "        buttonEl.style.display =\n",
              "          google.colab.kernel.accessAllowed ? 'block' : 'none';\n",
              "\n",
              "        async function convertToInteractive(key) {\n",
              "          const element = document.querySelector('#df-d0f6d22b-74d3-4ee8-8f3a-8e6b43e19ede');\n",
              "          const dataTable =\n",
              "            await google.colab.kernel.invokeFunction('convertToInteractive',\n",
              "                                                     [key], {});\n",
              "          if (!dataTable) return;\n",
              "\n",
              "          const docLinkHtml = 'Like what you see? Visit the ' +\n",
              "            '<a target=\"_blank\" href=https://colab.research.google.com/notebooks/data_table.ipynb>data table notebook</a>'\n",
              "            + ' to learn more about interactive tables.';\n",
              "          element.innerHTML = '';\n",
              "          dataTable['output_type'] = 'display_data';\n",
              "          await google.colab.output.renderOutput(dataTable, element);\n",
              "          const docLink = document.createElement('div');\n",
              "          docLink.innerHTML = docLinkHtml;\n",
              "          element.appendChild(docLink);\n",
              "        }\n",
              "      </script>\n",
              "    </div>\n",
              "  </div>\n",
              "  "
            ]
          },
          "metadata": {},
          "execution_count": 3
        }
      ]
    },
    {
      "cell_type": "markdown",
      "source": [
        "**data preprocessing**"
      ],
      "metadata": {
        "id": "TWOIbCYPKtUm"
      }
    },
    {
      "cell_type": "code",
      "source": [
        "print(data.describe())"
      ],
      "metadata": {
        "colab": {
          "base_uri": "https://localhost:8080/"
        },
        "id": "5nB7jGdbKwt5",
        "outputId": "bea89f37-c07d-4918-93d0-0f251fdaf8d3"
      },
      "execution_count": 25,
      "outputs": [
        {
          "output_type": "stream",
          "name": "stdout",
          "text": [
            "           Hours     Scores\n",
            "count  25.000000  25.000000\n",
            "mean    5.012000  51.480000\n",
            "std     2.525094  25.286887\n",
            "min     1.100000  17.000000\n",
            "25%     2.700000  30.000000\n",
            "50%     4.800000  47.000000\n",
            "75%     7.400000  75.000000\n",
            "max     9.200000  95.000000\n"
          ]
        }
      ]
    },
    {
      "cell_type": "code",
      "source": [
        "# count the number of nan values in each column\n",
        "print(data.isnull().sum())"
      ],
      "metadata": {
        "colab": {
          "base_uri": "https://localhost:8080/"
        },
        "id": "p-42r7RmPOH7",
        "outputId": "e91b01a1-ce71-4204-f0cf-8ed2b66d18d2"
      },
      "execution_count": 26,
      "outputs": [
        {
          "output_type": "stream",
          "name": "stdout",
          "text": [
            "Hours     0\n",
            "Scores    0\n",
            "dtype: int64\n"
          ]
        }
      ]
    },
    {
      "cell_type": "markdown",
      "source": [
        "**Plotting The variation of scores in hours study**"
      ],
      "metadata": {
        "id": "ogsrG9-sap6G"
      }
    },
    {
      "cell_type": "code",
      "source": [
        "fig = plt.figure(figsize=(15,1))\n",
        "data.plot(x='Hours', y='Scores', style='*')  \n",
        "plt.title('les scores en fonction de heures')  \n",
        "plt.xlabel('Hours Studied')  \n",
        "plt.ylabel('Score')  \n",
        "plt.show()"
      ],
      "metadata": {
        "colab": {
          "base_uri": "https://localhost:8080/",
          "height": 313
        },
        "id": "LZG_AH2mahgb",
        "outputId": "fef1a4df-743b-4181-a430-e95915d5193b"
      },
      "execution_count": null,
      "outputs": [
        {
          "output_type": "display_data",
          "data": {
            "text/plain": [
              "<Figure size 1080x72 with 0 Axes>"
            ]
          },
          "metadata": {}
        },
        {
          "output_type": "display_data",
          "data": {
            "text/plain": [
              "<Figure size 432x288 with 1 Axes>"
            ],
            "image/png": "[encoded data removed]"
          },
          "metadata": {
            "needs_background": "light"
          }
        }
      ]
    },
    {
      "cell_type": "markdown",
      "source": [
        "**here i create two variable hours and scores** \n",
        "\n",
        "\n",
        "---\n",
        "\n",
        "\n",
        "**hours** contain column hours \n",
        "\n",
        "\n",
        "---\n",
        "\n",
        "\n",
        "**scores** contain column scores"
      ],
      "metadata": {
        "id": "UKHr4S3cXWRk"
      }
    },
    {
      "cell_type": "code",
      "source": [
        "hours=data['Hours']\n",
        "scores=data['Scores']"
      ],
      "metadata": {
        "id": "_xjHTP7-XVhl"
      },
      "execution_count": 4,
      "outputs": []
    },
    {
      "cell_type": "markdown",
      "source": [
        "**transform the two variable into array X for data and Y for label**"
      ],
      "metadata": {
        "id": "Axj34D35ZA56"
      }
    },
    {
      "cell_type": "code",
      "source": [
        "X=np.array(hours)\n",
        "Y=np.array(scores)"
      ],
      "metadata": {
        "id": "N0rY8ClPZAR1"
      },
      "execution_count": 5,
      "outputs": []
    },
    {
      "cell_type": "code",
      "source": [
        "X"
      ],
      "metadata": {
        "colab": {
          "base_uri": "https://localhost:8080/"
        },
        "id": "bPO5-Zo4XTrL",
        "outputId": "3eac66af-fa60-4361-be6f-4a4428040f17"
      },
      "execution_count": null,
      "outputs": [
        {
          "output_type": "execute_result",
          "data": {
            "text/plain": [
              "array([2.5, 5.1, 3.2, 8.5, 3.5, 1.5, 9.2, 5.5, 8.3, 2.7, 7.7, 5.9, 4.5,\n",
              "       3.3, 1.1, 8.9, 2.5, 1.9, 6.1, 7.4, 2.7, 4.8, 3.8, 6.9, 7.8])"
            ]
          },
          "metadata": {},
          "execution_count": 6
        }
      ]
    },
    {
      "cell_type": "code",
      "source": [
        "  Y"
      ],
      "metadata": {
        "colab": {
          "base_uri": "https://localhost:8080/"
        },
        "id": "0ETYvuWDaHcn",
        "outputId": "5a5ab2f4-6a8e-4974-c5eb-6592e868ec96"
      },
      "execution_count": null,
      "outputs": [
        {
          "output_type": "execute_result",
          "data": {
            "text/plain": [
              "array([21, 47, 27, 75, 30, 20, 88, 60, 81, 25, 85, 62, 41, 42, 17, 95, 30,\n",
              "       24, 67, 69, 30, 54, 35, 76, 86])"
            ]
          },
          "metadata": {},
          "execution_count": 7
        }
      ]
    },
    {
      "cell_type": "markdown",
      "source": [
        "**As we can see here the X and Y variable are in Row now we will put them in column using reshape**"
      ],
      "metadata": {
        "id": "LKYfjqenZwJp"
      }
    },
    {
      "cell_type": "code",
      "source": [
        "X=X.reshape(-1,1)\n",
        "Y=Y.reshape(-1,1)"
      ],
      "metadata": {
        "id": "hYax-nwbZnnQ"
      },
      "execution_count": 6,
      "outputs": []
    },
    {
      "cell_type": "code",
      "source": [
        "X"
      ],
      "metadata": {
        "colab": {
          "base_uri": "https://localhost:8080/"
        },
        "id": "JLmeLQH7aMaB",
        "outputId": "12011ba9-f8da-4aee-e06a-ad501c953c92"
      },
      "execution_count": null,
      "outputs": [
        {
          "output_type": "execute_result",
          "data": {
            "text/plain": [
              "array([[2.5],\n",
              "       [5.1],\n",
              "       [3.2],\n",
              "       [8.5],\n",
              "       [3.5],\n",
              "       [1.5],\n",
              "       [9.2],\n",
              "       [5.5],\n",
              "       [8.3],\n",
              "       [2.7],\n",
              "       [7.7],\n",
              "       [5.9],\n",
              "       [4.5],\n",
              "       [3.3],\n",
              "       [1.1],\n",
              "       [8.9],\n",
              "       [2.5],\n",
              "       [1.9],\n",
              "       [6.1],\n",
              "       [7.4],\n",
              "       [2.7],\n",
              "       [4.8],\n",
              "       [3.8],\n",
              "       [6.9],\n",
              "       [7.8]])"
            ]
          },
          "metadata": {},
          "execution_count": 9
        }
      ]
    },
    {
      "cell_type": "markdown",
      "source": [
        "**here we will split dataset into train and test 2/3 train 1/3 test**"
      ],
      "metadata": {
        "id": "urYO0KAWH6BS"
      }
    },
    {
      "cell_type": "code",
      "source": [
        "from sklearn.model_selection import train_test_split  \n",
        "X_train, X_test, y_train, y_test = train_test_split(X, Y, \n",
        "                            test_size=0.33, random_state=0) "
      ],
      "metadata": {
        "id": "jRFVfdMFIAJ6"
      },
      "execution_count": 8,
      "outputs": []
    },
    {
      "cell_type": "markdown",
      "source": [
        "**now we applied the simple linearRegression algorithme to train the model because we have one variable hours**"
      ],
      "metadata": {
        "id": "i6J-DW2RaP2c"
      }
    },
    {
      "cell_type": "code",
      "source": [
        "from sklearn.linear_model import LinearRegression\n",
        "model=LinearRegression()\n",
        "#using time library to chek the time nedded the algorithme to train \n",
        "import time\n",
        "debut=time.time()\n",
        "model.fit(X_train,y_train)\n",
        "fin=time.time()-debut\n",
        "print(\"the time nedded to finish the train is \",fin,\"s\")"
      ],
      "metadata": {
        "colab": {
          "base_uri": "https://localhost:8080/"
        },
        "id": "nuFrIpi3aO0A",
        "outputId": "54126113-8acc-4847-e7b0-69be8247d4b8"
      },
      "execution_count": 9,
      "outputs": [
        {
          "output_type": "stream",
          "name": "stdout",
          "text": [
            "the time nedded to finish the train is  0.013167858123779297 s\n"
          ]
        }
      ]
    },
    {
      "cell_type": "markdown",
      "source": [
        "**Now we will create two variable a and b** \n",
        "\n",
        "---\n",
        "**a**: for model.coef_ \n",
        "\n",
        "---\n",
        "**b**: for .intercept_\n",
        "\n"
      ],
      "metadata": {
        "id": "rPjMFfLyccSu"
      }
    },
    {
      "cell_type": "markdown",
      "source": [
        "#y=ax+b"
      ],
      "metadata": {
        "id": "qr_JOAhJdTMg"
      }
    },
    {
      "cell_type": "code",
      "source": [
        "a=model.coef_ \n",
        "print(a)\n",
        "\n",
        "b=model.intercept_\n",
        "print(b)"
      ],
      "metadata": {
        "colab": {
          "base_uri": "https://localhost:8080/"
        },
        "id": "4Ou-rxvydF3B",
        "outputId": "e3f1fc3d-e619-4d19-9777-d6beb8c8af97"
      },
      "execution_count": 10,
      "outputs": [
        {
          "output_type": "stream",
          "name": "stdout",
          "text": [
            "[[9.69062469]]\n",
            "[2.50695476]\n"
          ]
        }
      ]
    },
    {
      "cell_type": "markdown",
      "source": [
        "**Now we will make prediction using X_test**"
      ],
      "metadata": {
        "id": "amJqD5kSdi6w"
      }
    },
    {
      "cell_type": "code",
      "source": [
        "pred=model.predict(X_test)\n",
        "pred"
      ],
      "metadata": {
        "colab": {
          "base_uri": "https://localhost:8080/"
        },
        "id": "f_mDAb7kdibm",
        "outputId": "72cfe21a-a07b-4b7b-9176-fca2d18c7511"
      },
      "execution_count": 11,
      "outputs": [
        {
          "output_type": "execute_result",
          "data": {
            "text/plain": [
              "array([[17.04289179],\n",
              "       [33.51695377],\n",
              "       [74.21757747],\n",
              "       [26.73351648],\n",
              "       [59.68164043],\n",
              "       [39.33132858],\n",
              "       [20.91914167],\n",
              "       [78.09382734],\n",
              "       [69.37226512]])"
            ]
          },
          "metadata": {},
          "execution_count": 11
        }
      ]
    },
    {
      "cell_type": "code",
      "source": [
        "# Comparing between y_actual and y_pred\n",
        "df = np.concatenate((y_test,pred),axis=1)\n",
        "df=pd.DataFrame(df)\n",
        "df. rename(columns = {0:'y_actual', 1:'y_pred'}, inplace = True)\n",
        "print(df) "
      ],
      "metadata": {
        "colab": {
          "base_uri": "https://localhost:8080/"
        },
        "id": "WBHzhAfufJQ3",
        "outputId": "52aaf10b-b51a-4d1d-d95a-9d77041b0a3a"
      },
      "execution_count": 12,
      "outputs": [
        {
          "output_type": "stream",
          "name": "stdout",
          "text": [
            "   y_actual     y_pred\n",
            "0      20.0  17.042892\n",
            "1      27.0  33.516954\n",
            "2      69.0  74.217577\n",
            "3      30.0  26.733516\n",
            "4      62.0  59.681640\n",
            "5      35.0  39.331329\n",
            "6      24.0  20.919142\n",
            "7      86.0  78.093827\n",
            "8      76.0  69.372265\n"
          ]
        }
      ]
    },
    {
      "cell_type": "markdown",
      "source": [
        "after prediction we will calculate the error using RMSE metrics"
      ],
      "metadata": {
        "id": "h-9gxin1eATP"
      }
    },
    {
      "cell_type": "code",
      "source": [
        "from sklearn.metrics import mean_squared_error\n",
        "mse=mean_squared_error(y_test,pred)\n",
        "import math\n",
        "print('RMSE', math.sqrt(mse))\n"
      ],
      "metadata": {
        "colab": {
          "base_uri": "https://localhost:8080/"
        },
        "id": "glUeAeWId_0J",
        "outputId": "2c716377-1d90-457a-8493-c072f6c2cd97"
      },
      "execution_count": 13,
      "outputs": [
        {
          "output_type": "stream",
          "name": "stdout",
          "text": [
            "RMSE 5.046115410711748\n"
          ]
        }
      ]
    },
    {
      "cell_type": "markdown",
      "source": [
        "Now we use EV to calculate the accuracy of the model"
      ],
      "metadata": {
        "id": "j7Qi0bkteeEm"
      }
    },
    {
      "cell_type": "code",
      "source": [
        "from sklearn.metrics import explained_variance_score\n",
        "EV=explained_variance_score(y_test, pred)\n",
        "print(\"Explained variance: %f\" % (EV*100))"
      ],
      "metadata": {
        "colab": {
          "base_uri": "https://localhost:8080/"
        },
        "id": "QCFg9G8OdiZ8",
        "outputId": "73de9137-6609-43dc-ec1d-2e072e2d115a"
      },
      "execution_count": 14,
      "outputs": [
        {
          "output_type": "stream",
          "name": "stdout",
          "text": [
            "Explained variance: 95.776355\n"
          ]
        }
      ]
    },
    {
      "cell_type": "markdown",
      "source": [
        "here i create a line using pred1=a*X+b"
      ],
      "metadata": {
        "id": "gySPOZ8Kitgy"
      }
    },
    {
      "cell_type": "code",
      "source": [
        "pred1=a*X+b"
      ],
      "metadata": {
        "id": "3N8tWnv9i0mr"
      },
      "execution_count": 20,
      "outputs": []
    },
    {
      "cell_type": "code",
      "source": [
        "pred1"
      ],
      "metadata": {
        "colab": {
          "base_uri": "https://localhost:8080/"
        },
        "id": "L_mCIY5pi24f",
        "outputId": "4b3d129f-3d21-4a07-c7be-a252d1de661d"
      },
      "execution_count": 21,
      "outputs": [
        {
          "output_type": "execute_result",
          "data": {
            "text/plain": [
              "array([[26.73351648],\n",
              "       [51.92914068],\n",
              "       [33.51695377],\n",
              "       [84.87726463],\n",
              "       [36.42414117],\n",
              "       [17.04289179],\n",
              "       [91.66070191],\n",
              "       [55.80539056],\n",
              "       [82.93913969],\n",
              "       [28.67164142],\n",
              "       [77.12476487],\n",
              "       [59.68164043],\n",
              "       [46.11476586],\n",
              "       [34.48601624],\n",
              "       [13.16664192],\n",
              "       [88.7535145 ],\n",
              "       [26.73351648],\n",
              "       [20.91914167],\n",
              "       [61.61976537],\n",
              "       [74.21757747],\n",
              "       [28.67164142],\n",
              "       [49.02195327],\n",
              "       [39.33132858],\n",
              "       [69.37226512],\n",
              "       [78.09382734]])"
            ]
          },
          "metadata": {},
          "execution_count": 21
        }
      ]
    },
    {
      "cell_type": "code",
      "source": [
        "plt.scatter(X,Y)\n",
        "plt.plot(X,pred1,color=\"green\")\n",
        "plt.xlabel(\"hours\")\n",
        "plt.ylabel(\"scores\")"
      ],
      "metadata": {
        "colab": {
          "base_uri": "https://localhost:8080/",
          "height": 297
        },
        "id": "7HKjgBSYiEjZ",
        "outputId": "68d0d0a4-a2a8-4f66-c05b-ce332cfc3381"
      },
      "execution_count": 22,
      "outputs": [
        {
          "output_type": "execute_result",
          "data": {
            "text/plain": [
              "Text(0, 0.5, 'scores')"
            ]
          },
          "metadata": {},
          "execution_count": 22
        },
        {
          "output_type": "display_data",
          "data": {
            "text/plain": [
              "<Figure size 432x288 with 1 Axes>"
            ],
            "image/png": "[encoded data removed]"
          },
          "metadata": {
            "needs_background": "light"
          }
        }
      ]
    },
    {
      "cell_type": "markdown",
      "source": [
        "**Finnaly we predicted the score if a student studies for 9.25 hrs/day**"
      ],
      "metadata": {
        "id": "fAjlpsOvjZg0"
      }
    },
    {
      "cell_type": "code",
      "source": [
        "result=model.predict([[9.25]])"
      ],
      "metadata": {
        "id": "zxSi2_WTjBpl"
      },
      "execution_count": 23,
      "outputs": []
    },
    {
      "cell_type": "code",
      "source": [
        "print(\"the predicted predicted score if a student studies for 9.25 hrs/day is\",result[0][0])"
      ],
      "metadata": {
        "colab": {
          "base_uri": "https://localhost:8080/"
        },
        "id": "RGDyffO6irNn",
        "outputId": "52c69e71-f257-4fc6-baf9-9d834446aff2"
      },
      "execution_count": 24,
      "outputs": [
        {
          "output_type": "stream",
          "name": "stdout",
          "text": [
            "the predicted predicted score if a student studies for 9.25 hrs/day is 92.14523314523316\n"
          ]
        }
      ]
    },
    {
      "cell_type": "markdown",
      "source": [
        "#***Hope you enjoy it***\n"
      ],
      "metadata": {
        "id": "9O0NKZbikqyR"
      }
    }
  ]
}